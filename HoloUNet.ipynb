{
 "cells": [
  {
   "cell_type": "code",
   "execution_count": null,
   "metadata": {},
   "outputs": [],
   "source": [
    "import os\n",
    "import io\n",
    "os.environ[\"CUDA_VISIBLE_DEVICES\"]=\"1\" "
   ]
  },
  {
   "cell_type": "code",
   "execution_count": null,
   "metadata": {},
   "outputs": [],
   "source": [
    "from keras.models import Model, Sequential,load_model\n",
    "from keras import backend as K\n",
    "from keras.utils import Sequence\n",
    "from keras.layers.merge import *\n",
    "from keras.callbacks import EarlyStopping, ModelCheckpoint, LearningRateScheduler\n",
    "from keras import optimizers\n",
    "from keras.optimizers import SGD\n",
    "from keras.layers.merge import concatenate\n",
    "import keras\n",
    "import tensorflow as tf\n",
    "\n",
    "from sklearn.model_selection import KFold\n",
    "\n",
    "import numpy as np\n",
    "import scipy as sp\n",
    "import pandas as pd\n",
    "\n",
    "from scipy.optimize import curve_fit, minimize\n",
    "\n",
    "from PIL import Image\n",
    "import matplotlib.pyplot as plt\n",
    "import matplotlib.animation as animation\n",
    "from skimage import exposure\n",
    "from IPython.display import SVG\n",
    "from keras.utils.vis_utils import model_to_dot\n",
    "from IPython.display import HTML\n",
    "\n",
    "import time\n",
    "\n",
    "from tensorflow.python import debug as tf_debug\n",
    "\n",
    "import models.modded_unet as modded_unet\n",
    "import models.loss\n",
    "\n",
    "import data_loader\n",
    "from tqdm import tqdm"
   ]
  },
  {
   "cell_type": "code",
   "execution_count": null,
   "metadata": {},
   "outputs": [],
   "source": [
    "###################################\n",
    "# TensorFlow wizardry\n",
    "config = tf.ConfigProto()\n",
    " \n",
    "# Don't pre-allocate memory; allocate as-needed\n",
    "config.gpu_options.allow_growth = True\n",
    " \n",
    "# Create a session with the above options specified.\n",
    "keras.backend.tensorflow_backend.set_session(tf.Session(config=config))"
   ]
  },
  {
   "cell_type": "code",
   "execution_count": null,
   "metadata": {},
   "outputs": [],
   "source": [
    "model_type = modded_unet\n",
    "\n",
    "exp_name = \"HoloUNet_cells\"\n",
    "\n",
    "max_x = 512\n",
    "max_y = 512"
   ]
  },
  {
   "cell_type": "markdown",
   "metadata": {},
   "source": [
    "## Define Model"
   ]
  },
  {
   "cell_type": "code",
   "execution_count": null,
   "metadata": {},
   "outputs": [],
   "source": [
    "def build_unet(bb=None):\n",
    "    unet = model_type.get_model(1,max_x,max_y,32)\n",
    "    unet.compile(optimizer='adadelta', loss=models.loss.npcc_fft)\n",
    "\n",
    "    return unet"
   ]
  },
  {
   "cell_type": "code",
   "execution_count": null,
   "metadata": {},
   "outputs": [],
   "source": [
    "build_unet().summary()"
   ]
  },
  {
   "cell_type": "markdown",
   "metadata": {},
   "source": [
    "## Load Dataset"
   ]
  },
  {
   "cell_type": "code",
   "execution_count": null,
   "metadata": {},
   "outputs": [],
   "source": [
    "#Load Data\n",
    "dl = data_loader.data_loader(max_x,max_y)\n",
    "train_data_x, train_data_y, test_data_x, test_data_y, train_input_filelist, test_input_filelist = dl.get_bj7_ds()"
   ]
  },
  {
   "cell_type": "markdown",
   "metadata": {},
   "source": [
    "## Train"
   ]
  },
  {
   "cell_type": "code",
   "execution_count": null,
   "metadata": {
    "scrolled": true
   },
   "outputs": [],
   "source": [
    "n_folds = 5\n",
    "batch_size = 4\n",
    "\n",
    "keras.backend.set_session(tf.Session())"
   ]
  },
  {
   "cell_type": "code",
   "execution_count": null,
   "metadata": {
    "scrolled": false
   },
   "outputs": [],
   "source": [
    "kf = KFold(n_splits=n_folds, shuffle=True)\n",
    "\n",
    "i=0\n",
    "\n",
    "for train_ind, val_ind in kf.split(train_data_x,train_data_y):\n",
    "    train_x = train_data_x[train_ind]\n",
    "    train_y = train_data_y[train_ind]\n",
    "    \n",
    "    val_x = train_data_x[val_ind]\n",
    "    val_y = train_data_y[val_ind]\n",
    "\n",
    "    checkpoint = ModelCheckpoint(\"weighted_models/{}_{}.h5\".format(exp_name,i), monitor='val_loss', verbose=1, save_best_only=True, mode='min')\n",
    "    \n",
    "    model = build_unet()\n",
    "    model.fit(train_x,train_y,\n",
    "          batch_size=batch_size,\n",
    "          epochs=30,\n",
    "          validation_data=(val_x,val_y),\n",
    "          verbose=1,\n",
    "          shuffle=True,\n",
    "          callbacks=[checkpoint]) \n",
    "    \n",
    "    i+=1"
   ]
  },
  {
   "cell_type": "markdown",
   "metadata": {},
   "source": [
    "## Testing"
   ]
  },
  {
   "cell_type": "code",
   "execution_count": null,
   "metadata": {},
   "outputs": [],
   "source": [
    "best_model = load_model('weighted_models/unet_fringe_contrast_fibroblast_fullfft_log_22-12-19--17-31_split1.h5.h5')"
   ]
  },
  {
   "cell_type": "code",
   "execution_count": null,
   "metadata": {},
   "outputs": [],
   "source": [
    "for i in tqdm(np.arange(test_data_x.shape[0])):\n",
    "    result = best_model.predict(test_data_x[i].reshape((1,max_x,max_y,2)))"
   ]
  }
 ],
 "metadata": {
  "kernelspec": {
   "display_name": "Python 3",
   "language": "python",
   "name": "python3"
  },
  "language_info": {
   "codemirror_mode": {
    "name": "ipython",
    "version": 3
   },
   "file_extension": ".py",
   "mimetype": "text/x-python",
   "name": "python",
   "nbconvert_exporter": "python",
   "pygments_lexer": "ipython3",
   "version": "3.6.5"
  }
 },
 "nbformat": 4,
 "nbformat_minor": 2
}
